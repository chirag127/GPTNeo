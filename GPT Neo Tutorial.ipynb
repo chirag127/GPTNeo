{
  "cells": [
    {
      "cell_type": "markdown",
      "metadata": {
        "id": "view-in-github",
        "colab_type": "text"
      },
      "source": [
        "<a href=\"https://colab.research.google.com/github/chirag127/GPTNeo/blob/main/GPT%20Neo%20Tutorial.ipynb\" target=\"_parent\"><img src=\"https://colab.research.google.com/assets/colab-badge.svg\" alt=\"Open In Colab\"/></a>"
      ]
    },
    {
      "cell_type": "markdown",
      "metadata": {
        "id": "H-VMChULuVSq"
      },
      "source": [
        "# 1. Install and Import Dependencies"
      ]
    },
    {
      "cell_type": "code",
      "execution_count": null,
      "metadata": {
        "collapsed": true,
        "id": "6W1RXZk9uVSv",
        "outputId": "821df620-ff76-4a29-fbb2-868e7f0c8e61",
        "colab": {
          "base_uri": "https://localhost:8080/"
        }
      },
      "outputs": [
        {
          "output_type": "stream",
          "name": "stdout",
          "text": [
            "Looking in links: https://download.pytorch.org/whl/torch_stable.html\n",
            "Collecting torch==1.8.1+cu111\n",
            "  Downloading https://download.pytorch.org/whl/cu111/torch-1.8.1%2Bcu111-cp37-cp37m-linux_x86_64.whl (1982.2 MB)\n",
            "\u001b[K     |█████████████▌                  | 834.1 MB 1.4 MB/s eta 0:13:34tcmalloc: large alloc 1147494400 bytes == 0x55b111fb2000 @  0x7fd81805f615 0x55b0d8a334cc 0x55b0d8b1347a 0x55b0d8a362ed 0x55b0d8b27e1d 0x55b0d8aa9e99 0x55b0d8aa49ee 0x55b0d8a37bda 0x55b0d8aa9d00 0x55b0d8aa49ee 0x55b0d8a37bda 0x55b0d8aa6737 0x55b0d8b28c66 0x55b0d8aa5daf 0x55b0d8b28c66 0x55b0d8aa5daf 0x55b0d8b28c66 0x55b0d8aa5daf 0x55b0d8a38039 0x55b0d8a7b409 0x55b0d8a36c52 0x55b0d8aa9c25 0x55b0d8aa49ee 0x55b0d8a37bda 0x55b0d8aa6737 0x55b0d8aa49ee 0x55b0d8a37bda 0x55b0d8aa5915 0x55b0d8a37afa 0x55b0d8aa5c0d 0x55b0d8aa49ee\n",
            "\u001b[K     |█████████████████               | 1055.7 MB 1.4 MB/s eta 0:11:01tcmalloc: large alloc 1434370048 bytes == 0x55b156608000 @  0x7fd81805f615 0x55b0d8a334cc 0x55b0d8b1347a 0x55b0d8a362ed 0x55b0d8b27e1d 0x55b0d8aa9e99 0x55b0d8aa49ee 0x55b0d8a37bda 0x55b0d8aa9d00 0x55b0d8aa49ee 0x55b0d8a37bda 0x55b0d8aa6737 0x55b0d8b28c66 0x55b0d8aa5daf 0x55b0d8b28c66 0x55b0d8aa5daf 0x55b0d8b28c66 0x55b0d8aa5daf 0x55b0d8a38039 0x55b0d8a7b409 0x55b0d8a36c52 0x55b0d8aa9c25 0x55b0d8aa49ee 0x55b0d8a37bda 0x55b0d8aa6737 0x55b0d8aa49ee 0x55b0d8a37bda 0x55b0d8aa5915 0x55b0d8a37afa 0x55b0d8aa5c0d 0x55b0d8aa49ee\n",
            "\u001b[K     |█████████████████████▋          | 1336.2 MB 1.4 MB/s eta 0:07:49tcmalloc: large alloc 1792966656 bytes == 0x55b0db43a000 @  0x7fd81805f615 0x55b0d8a334cc 0x55b0d8b1347a 0x55b0d8a362ed 0x55b0d8b27e1d 0x55b0d8aa9e99 0x55b0d8aa49ee 0x55b0d8a37bda 0x55b0d8aa9d00 0x55b0d8aa49ee 0x55b0d8a37bda 0x55b0d8aa6737 0x55b0d8b28c66 0x55b0d8aa5daf 0x55b0d8b28c66 0x55b0d8aa5daf 0x55b0d8b28c66 0x55b0d8aa5daf 0x55b0d8a38039 0x55b0d8a7b409 0x55b0d8a36c52 0x55b0d8aa9c25 0x55b0d8aa49ee 0x55b0d8a37bda 0x55b0d8aa6737 0x55b0d8aa49ee 0x55b0d8a37bda 0x55b0d8aa5915 0x55b0d8a37afa 0x55b0d8aa5c0d 0x55b0d8aa49ee\n",
            "\u001b[K     |███████████████████████████▎    | 1691.1 MB 1.2 MB/s eta 0:04:10tcmalloc: large alloc 2241208320 bytes == 0x55b146222000 @  0x7fd81805f615 0x55b0d8a334cc 0x55b0d8b1347a 0x55b0d8a362ed 0x55b0d8b27e1d 0x55b0d8aa9e99 0x55b0d8aa49ee 0x55b0d8a37bda 0x55b0d8aa9d00 0x55b0d8aa49ee 0x55b0d8a37bda 0x55b0d8aa6737 0x55b0d8b28c66 0x55b0d8aa5daf 0x55b0d8b28c66 0x55b0d8aa5daf 0x55b0d8b28c66 0x55b0d8aa5daf 0x55b0d8a38039 0x55b0d8a7b409 0x55b0d8a36c52 0x55b0d8aa9c25 0x55b0d8aa49ee 0x55b0d8a37bda 0x55b0d8aa6737 0x55b0d8aa49ee 0x55b0d8a37bda 0x55b0d8aa5915 0x55b0d8a37afa 0x55b0d8aa5c0d 0x55b0d8aa49ee\n",
            "\u001b[K     |████████████████████████████████| 1982.2 MB 1.1 MB/s eta 0:00:01tcmalloc: large alloc 1982177280 bytes == 0x55b1cbb84000 @  0x7fd81805e1e7 0x55b0d8a69067 0x55b0d8a334cc 0x55b0d8b1347a 0x55b0d8a362ed 0x55b0d8b27e1d 0x55b0d8aa9e99 0x55b0d8aa49ee 0x55b0d8a37bda 0x55b0d8aa5c0d 0x55b0d8aa49ee 0x55b0d8a37bda 0x55b0d8aa5c0d 0x55b0d8aa49ee 0x55b0d8a37bda 0x55b0d8aa5c0d 0x55b0d8aa49ee 0x55b0d8a37bda 0x55b0d8aa5c0d 0x55b0d8aa49ee 0x55b0d8a37bda 0x55b0d8aa5c0d 0x55b0d8a37afa 0x55b0d8aa5c0d 0x55b0d8aa49ee 0x55b0d8a37bda 0x55b0d8aa6737 0x55b0d8aa49ee 0x55b0d8a37bda 0x55b0d8aa6737 0x55b0d8aa49ee\n",
            "tcmalloc: large alloc 2477727744 bytes == 0x55b241dde000 @  0x7fd81805f615 0x55b0d8a334cc 0x55b0d8b1347a 0x55b0d8a362ed 0x55b0d8b27e1d 0x55b0d8aa9e99 0x55b0d8aa49ee 0x55b0d8a37bda 0x55b0d8aa5c0d 0x55b0d8aa49ee 0x55b0d8a37bda 0x55b0d8aa5c0d 0x55b0d8aa49ee 0x55b0d8a37bda 0x55b0d8aa5c0d 0x55b0d8aa49ee 0x55b0d8a37bda 0x55b0d8aa5c0d 0x55b0d8aa49ee 0x55b0d8a37bda 0x55b0d8aa5c0d 0x55b0d8a37afa 0x55b0d8aa5c0d 0x55b0d8aa49ee 0x55b0d8a37bda 0x55b0d8aa6737 0x55b0d8aa49ee 0x55b0d8a37bda 0x55b0d8aa6737 0x55b0d8aa49ee 0x55b0d8a38271\n",
            "\u001b[K     |████████████████████████████████| 1982.2 MB 1.3 kB/s \n",
            "\u001b[?25hCollecting torchvision==0.9.1+cu111\n",
            "  Downloading https://download.pytorch.org/whl/cu111/torchvision-0.9.1%2Bcu111-cp37-cp37m-linux_x86_64.whl (17.6 MB)\n",
            "\u001b[K     |████████████████████████████████| 17.6 MB 106 kB/s \n",
            "\u001b[?25hCollecting torchaudio===0.8.1\n",
            "  Downloading torchaudio-0.8.1-cp37-cp37m-manylinux1_x86_64.whl (1.9 MB)\n",
            "\u001b[K     |████████████████████████████████| 1.9 MB 5.2 MB/s \n",
            "\u001b[?25hRequirement already satisfied: typing-extensions in /usr/local/lib/python3.7/dist-packages (from torch==1.8.1+cu111) (3.10.0.2)\n",
            "Requirement already satisfied: numpy in /usr/local/lib/python3.7/dist-packages (from torch==1.8.1+cu111) (1.19.5)\n",
            "Requirement already satisfied: pillow>=4.1.1 in /usr/local/lib/python3.7/dist-packages (from torchvision==0.9.1+cu111) (7.1.2)\n",
            "Installing collected packages: torch, torchvision, torchaudio\n",
            "  Attempting uninstall: torch\n",
            "    Found existing installation: torch 1.10.0+cu111\n",
            "    Uninstalling torch-1.10.0+cu111:\n",
            "      Successfully uninstalled torch-1.10.0+cu111\n"
          ]
        }
      ],
      "source": [
        "!pip install  torchvision==0.9.1+cu111 torchaudio===0.8.1 -f https://download.pytorch.org/whl/torch_stable.html"
      ]
    },
    {
      "cell_type": "code",
      "execution_count": null,
      "metadata": {
        "collapsed": true,
        "id": "FPu4TGn5uVSy"
      },
      "outputs": [],
      "source": [
        "!pip install transformers"
      ]
    },
    {
      "cell_type": "code",
      "execution_count": null,
      "metadata": {
        "id": "R0O2BMq4uVS1"
      },
      "outputs": [],
      "source": [
        "from transformers import pipeline # First line"
      ]
    },
    {
      "cell_type": "markdown",
      "metadata": {
        "id": "BaCHR4QFuVS2"
      },
      "source": [
        "# 2. Setup Generator"
      ]
    },
    {
      "cell_type": "code",
      "execution_count": null,
      "metadata": {
        "id": "K4rTRb6auVS2"
      },
      "outputs": [],
      "source": [
        "generator = pipeline('text-generation', model='EleutherAI/gpt-neo-2.7B') # Second line"
      ]
    },
    {
      "cell_type": "markdown",
      "metadata": {
        "id": "_Cegs5DNuVS4"
      },
      "source": [
        "# 3. Generate Text using Prompt"
      ]
    },
    {
      "cell_type": "code",
      "execution_count": null,
      "metadata": {
        "id": "0C3d_uwsuVS5"
      },
      "outputs": [],
      "source": [
        "prompt = \"The current stock market\" # Third line"
      ]
    },
    {
      "cell_type": "code",
      "execution_count": null,
      "metadata": {
        "id": "o9_Age84uVS6"
      },
      "outputs": [],
      "source": [
        "res = generator(prompt, max_length=50, do_sample=True, temperature=0.9) # Fourth line"
      ]
    },
    {
      "cell_type": "markdown",
      "metadata": {
        "id": "q_DqIaMBuVS6"
      },
      "source": [
        "# 4. Output Text"
      ]
    },
    {
      "cell_type": "code",
      "execution_count": null,
      "metadata": {
        "id": "GQf-ywB7uVS7"
      },
      "outputs": [],
      "source": [
        "print(res[0]['generated_text'])"
      ]
    },
    {
      "cell_type": "code",
      "execution_count": null,
      "metadata": {
        "id": "cdIiovoOuVS8"
      },
      "outputs": [],
      "source": [
        "with open('gpttext.txt', 'w') as f:\n",
        "    f.writelines(res[0]['generated_text'])"
      ]
    }
  ],
  "metadata": {
    "kernelspec": {
      "display_name": "gptneo",
      "language": "python",
      "name": "gptneo"
    },
    "language_info": {
      "codemirror_mode": {
        "name": "ipython",
        "version": 3
      },
      "file_extension": ".py",
      "mimetype": "text/x-python",
      "name": "python",
      "nbconvert_exporter": "python",
      "pygments_lexer": "ipython3",
      "version": "3.7.3"
    },
    "colab": {
      "name": "GPT Neo Tutorial.ipynb",
      "provenance": [],
      "include_colab_link": true
    }
  },
  "nbformat": 4,
  "nbformat_minor": 0
}